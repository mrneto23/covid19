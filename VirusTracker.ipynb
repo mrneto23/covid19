{
 "cells": [
  {
   "cell_type": "code",
   "execution_count": null,
   "metadata": {},
   "outputs": [],
   "source": [
    "import pandas as pd\n",
    "import matplotlib.pyplot as plt\n",
    "from datetime import datetime\n",
    "import sys\n",
    "sys.path.append(\"lib\")\n",
    "from CovidTracker import CovidTracker"
   ]
  },
  {
   "cell_type": "code",
   "execution_count": null,
   "metadata": {},
   "outputs": [],
   "source": [
    "def get_countries(df, num_countries, status):\n",
    "    result = df[df['date'] == datetime.now().strftime(\"%Y-%m-%d\")]\\\n",
    "        .sort_values(by=status, ascending=False)\\\n",
    "        .head(num_countries)['countrycode']\n",
    "    return result"
   ]
  },
  {
   "cell_type": "code",
   "execution_count": null,
   "metadata": {},
   "outputs": [],
   "source": [
    "def gen_plot(df, num_countries, status):\n",
    "    \"\"\"Docstring\"\"\"\n",
    "    \n",
    "    countries = get_countries(df, num_countries, status)\n",
    "    \n",
    "    fig,ax=plt.subplots()\n",
    "    ax.set_xlabel(\"Date\", fontsize=14)\n",
    "    ax.set_ylabel(f'{status} by COVID19', fontsize=14)\n",
    "\n",
    "    for country in countries:\n",
    "        ax.plot(df[df['countrycode'] == country]['date'],\n",
    "                df[df['countrycode'] == country][status],\n",
    "                marker='o',\n",
    "                label=country)\n",
    "\n",
    "    ax.grid(True)\n",
    "    leg = ax.legend()\n",
    "    plt.rcParams[\"figure.figsize\"] = (20,8)\n",
    "    plt.show()"
   ]
  },
  {
   "cell_type": "code",
   "execution_count": null,
   "metadata": {},
   "outputs": [],
   "source": [
    "covid = CovidTracker()\n",
    "df_covid = covid.get_full_timeline()\n",
    "# df_covid.to_csv('tracker.csv', index=False)"
   ]
  },
  {
   "cell_type": "code",
   "execution_count": null,
   "metadata": {},
   "outputs": [],
   "source": [
    "gen_plot(df_covid, 7, 'deaths')"
   ]
  },
  {
   "cell_type": "code",
   "execution_count": null,
   "metadata": {},
   "outputs": [],
   "source": [
    "gen_plot(df_covid, 7, 'cases')"
   ]
  },
  {
   "cell_type": "code",
   "execution_count": null,
   "metadata": {},
   "outputs": [],
   "source": [
    "gen_plot(df_covid, 7, 'recovered')"
   ]
  },
  {
   "cell_type": "code",
   "execution_count": null,
   "metadata": {},
   "outputs": [],
   "source": []
  }
 ],
 "metadata": {
  "kernelspec": {
   "display_name": "Python 3",
   "language": "python",
   "name": "python3"
  },
  "language_info": {
   "codemirror_mode": {
    "name": "ipython",
    "version": 3
   },
   "file_extension": ".py",
   "mimetype": "text/x-python",
   "name": "python",
   "nbconvert_exporter": "python",
   "pygments_lexer": "ipython3",
   "version": "3.7.6"
  }
 },
 "nbformat": 4,
 "nbformat_minor": 4
}
